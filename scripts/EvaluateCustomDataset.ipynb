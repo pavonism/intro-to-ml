{
 "cells": [
  {
   "cell_type": "code",
   "execution_count": 15,
   "metadata": {},
   "outputs": [],
   "source": [
    "import os\n",
    "import shutil\n",
    "from tqdm import tqdm\n",
    "from model_training.measures import summary\n",
    "from backend.intercom_classifier import WordAudioClassifier"
   ]
  },
  {
   "cell_type": "markdown",
   "metadata": {},
   "source": [
    "## Convert Collected Data to Required File Structure"
   ]
  },
  {
   "cell_type": "code",
   "execution_count": 2,
   "metadata": {},
   "outputs": [],
   "source": [
    "def split_files_by_category(input_path, output_path):\n",
    "    \"\"\"\n",
    "    Splits files into subfolders based on the {word} part of their filenames.\n",
    "    \n",
    "    Parameters:\n",
    "        input_path (str): Path to the input directory containing files to split.\n",
    "        output_path (str): Path to the output directory where subfolders will be created.\n",
    "    \"\"\"\n",
    "    if not os.path.exists(input_path):\n",
    "        print(f\"Error: Input path '{input_path}' does not exist.\")\n",
    "        return\n",
    "\n",
    "    os.makedirs(output_path, exist_ok=True)\n",
    "\n",
    "    for filename in tqdm(os.listdir(input_path)):\n",
    "        file_path = os.path.join(input_path, filename)\n",
    "\n",
    "        if not os.path.isfile(file_path):\n",
    "            continue\n",
    "\n",
    "        try:\n",
    "            base_name, _ = os.path.splitext(filename)\n",
    "            word, _ = base_name.split(\"_\")\n",
    "        except ValueError:\n",
    "            print(f\"Skipping file '{filename}' (does not match the required pattern).\")\n",
    "            continue\n",
    "\n",
    "        category_folder = os.path.join(output_path, word)\n",
    "        os.makedirs(category_folder, exist_ok=True)\n",
    "\n",
    "        destination_path = os.path.join(category_folder, filename)\n",
    "        shutil.copy(file_path, destination_path)"
   ]
  },
  {
   "cell_type": "code",
   "execution_count": 3,
   "metadata": {},
   "outputs": [
    {
     "name": "stderr",
     "output_type": "stream",
     "text": [
      "100%|██████████| 60/60 [00:00<00:00, 104.40it/s]\n"
     ]
    }
   ],
   "source": [
    "split_files_by_category('../data/manual', '../data/manual_split')"
   ]
  },
  {
   "cell_type": "markdown",
   "metadata": {},
   "source": [
    "## Evaluate the Model on Collected Data"
   ]
  },
  {
   "cell_type": "code",
   "execution_count": 8,
   "metadata": {},
   "outputs": [
    {
     "name": "stdout",
     "output_type": "stream",
     "text": [
      "Model loaded successfully\n"
     ]
    }
   ],
   "source": [
    "CLASS_LABELS = os.listdir('../data/manual_split')\n",
    "\n",
    "classifier = WordAudioClassifier(\n",
    "    class_labels=CLASS_LABELS,\n",
    "    model_path=\"../models/robustness_3_single_cnn_tsrc_spectrograms_cleaned_augmented_sharpened/\",\n",
    ")"
   ]
  },
  {
   "cell_type": "code",
   "execution_count": 9,
   "metadata": {},
   "outputs": [
    {
     "name": "stderr",
     "output_type": "stream",
     "text": [
      "  0%|          | 0/30 [00:00<?, ?it/s]E:\\MINI8\\ITM\\intro-to-ml\\backend\\audio_cleaner.py:37: UserWarning: PySoundFile failed. Trying audioread instead.\n",
      "  y, sr = librosa.load(input_path, sr=None)\n",
      "e:\\MINI8\\ITM\\intro-to-ml\\venv\\lib\\site-packages\\librosa\\core\\audio.py:184: FutureWarning: librosa.core.audio.__audioread_load\n",
      "\tDeprecated as of librosa version 0.10.0.\n",
      "\tIt will be removed in librosa version 1.0.\n",
      "  y, sr_native = __audioread_load(path, offset, duration, dtype)\n",
      "100%|██████████| 30/30 [00:17<00:00,  1.75it/s]\n"
     ]
    }
   ],
   "source": [
    "y_true = []\n",
    "y_pred = []\n",
    "\n",
    "for word in tqdm(CLASS_LABELS):\n",
    "    word_folder = os.path.join('../data/manual_split', word)\n",
    "    for file in os.listdir(word_folder):\n",
    "        file_path = os.path.join(word_folder, file)\n",
    "        predicted_label = classifier.predict_word(file_path)\n",
    "\n",
    "        y_true.append(CLASS_LABELS.index(word))\n",
    "        y_pred.append(CLASS_LABELS.index(predicted_label))"
   ]
  },
  {
   "cell_type": "code",
   "execution_count": 16,
   "metadata": {},
   "outputs": [
    {
     "name": "stdout",
     "output_type": "stream",
     "text": [
      "Accuracy: 0.7833333333333333\n",
      "Micro F1 Score: 0.7833333333333333\n",
      "Macro F1 Score: 0.7944444444444444\n",
      "Weighted F1 Score: 0.7944444444444445\n"
     ]
    },
    {
     "name": "stderr",
     "output_type": "stream",
     "text": [
      "E:\\MINI8\\ITM\\intro-to-ml\\model_training\\measures.py:138: UserWarning: FigureCanvasAgg is non-interactive, and thus cannot be shown\n",
      "  plt.show()\n"
     ]
    }
   ],
   "source": [
    "summary(y_true, y_pred, CLASS_LABELS)"
   ]
  }
 ],
 "metadata": {
  "kernelspec": {
   "display_name": "venv",
   "language": "python",
   "name": "python3"
  },
  "language_info": {
   "codemirror_mode": {
    "name": "ipython",
    "version": 3
   },
   "file_extension": ".py",
   "mimetype": "text/x-python",
   "name": "python",
   "nbconvert_exporter": "python",
   "pygments_lexer": "ipython3",
   "version": "3.9.13"
  }
 },
 "nbformat": 4,
 "nbformat_minor": 2
}
