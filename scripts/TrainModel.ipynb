{
 "cells": [
  {
   "cell_type": "code",
   "execution_count": 1,
   "metadata": {},
   "outputs": [],
   "source": [
    "import glob\n",
    "from typing import Dict\n",
    "import numpy as np\n",
    "\n",
    "from model_training.cnn_classifier import CNNClassifier"
   ]
  },
  {
   "cell_type": "code",
   "execution_count": 2,
   "metadata": {},
   "outputs": [],
   "source": [
    "from model_training.architectures.simple_convolution_network import SimpleConvolutionArchitecture\n",
    "\n",
    "\n",
    "model = CNNClassifier(\"../models/raw_simple_convo_model\", architecture=SimpleConvolutionArchitecture())"
   ]
  },
  {
   "cell_type": "code",
   "execution_count": null,
   "metadata": {},
   "outputs": [
    {
     "name": "stderr",
     "output_type": "stream",
     "text": [
      "e:\\MINI8\\ITM\\intro-to-ml\\venv\\lib\\site-packages\\torch\\optim\\lr_scheduler.py:62: UserWarning: The verbose parameter is deprecated. Please use get_last_lr() to access the learning rate.\n",
      "  warnings.warn(\n"
     ]
    },
    {
     "name": "stdout",
     "output_type": "stream",
     "text": [
      "Running training on GPU...\n"
     ]
    },
    {
     "name": "stderr",
     "output_type": "stream",
     "text": [
      "  0%|          | 1/500 [16:43<139:09:19, 1003.93s/it]"
     ]
    },
    {
     "name": "stdout",
     "output_type": "stream",
     "text": [
      "Epoch 0 Done after 1003.9109373092651 seconds\n"
     ]
    },
    {
     "name": "stderr",
     "output_type": "stream",
     "text": [
      "  0%|          | 2/500 [28:23<114:05:43, 824.79s/it] "
     ]
    },
    {
     "name": "stdout",
     "output_type": "stream",
     "text": [
      "Epoch 1 Done after 699.3860049247742 seconds\n"
     ]
    },
    {
     "name": "stderr",
     "output_type": "stream",
     "text": [
      "  1%|          | 3/500 [38:33<100:18:46, 726.61s/it]"
     ]
    },
    {
     "name": "stdout",
     "output_type": "stream",
     "text": [
      "Epoch 2 Done after 609.78515458107 seconds\n"
     ]
    },
    {
     "name": "stderr",
     "output_type": "stream",
     "text": [
      "  1%|          | 4/500 [48:00<91:25:34, 663.58s/it] "
     ]
    },
    {
     "name": "stdout",
     "output_type": "stream",
     "text": [
      "Epoch 3 Done after 566.9452595710754 seconds\n"
     ]
    },
    {
     "name": "stderr",
     "output_type": "stream",
     "text": [
      "  1%|          | 5/500 [57:33<86:46:27, 631.09s/it]"
     ]
    },
    {
     "name": "stdout",
     "output_type": "stream",
     "text": [
      "Epoch 4 Done after 573.4604432582855 seconds\n"
     ]
    },
    {
     "name": "stderr",
     "output_type": "stream",
     "text": [
      "  1%|          | 6/500 [1:07:05<83:49:38, 610.89s/it]"
     ]
    },
    {
     "name": "stdout",
     "output_type": "stream",
     "text": [
      "Epoch 5 Done after 571.6665878295898 seconds\n"
     ]
    },
    {
     "name": "stderr",
     "output_type": "stream",
     "text": [
      "  1%|▏         | 7/500 [1:16:36<81:53:03, 597.94s/it]"
     ]
    },
    {
     "name": "stdout",
     "output_type": "stream",
     "text": [
      "Epoch 6 Done after 571.2790026664734 seconds\n"
     ]
    }
   ],
   "source": [
    "model.fit(\n",
    "    \"../data/tsrc_sprectrograms_cleaned/train\", \n",
    "    \"../data/tsrc_sprectrograms_cleaned/validation\",\n",
    "    batch_size=32,\n",
    "    n_epochs=500,\n",
    ")"
   ]
  },
  {
   "cell_type": "code",
   "execution_count": 5,
   "metadata": {},
   "outputs": [],
   "source": [
    "import os\n",
    "from typing import List\n",
    "\n",
    "from matplotlib import pyplot as plt\n",
    "\n",
    "\n",
    "def get_true_and_predicted_labels(model : CNNClassifier, path: str) -> Dict[str, int]:\n",
    "    true_labels = get_true_labels(path)\n",
    "    predictions = model.predict(path)\n",
    "\n",
    "    y_true = []\n",
    "    y_pred = []\n",
    "\n",
    "    for file in true_labels:\n",
    "        y_true.append(true_labels[file])\n",
    "        y_pred.append(predictions[file])\n",
    "\n",
    "    return y_true, y_pred\n",
    "\n",
    "def get_true_labels(path: str) -> Dict[str, int]: \n",
    "\n",
    "    file_dicionary = {}\n",
    "\n",
    "    for index, word in enumerate(os.listdir(path)):\n",
    "        for file in glob.glob(f\"{path}\\\\{word}\\\\*.png\"):\n",
    "            file_dicionary[file] = index\n",
    "\n",
    "    return file_dicionary\n",
    "\n",
    "def accuracy(y_true: List[int], y_pred: List[int]) -> float:\n",
    "    correct = 0\n",
    "    for true, pred in zip(y_true, y_pred):\n",
    "        if true == pred:\n",
    "            correct += 1\n",
    "    return correct / len(y_true)\n",
    "\n",
    "\n",
    "def f1_score(y_true: List[int], y_pred: List[int]) -> float:\n",
    "    confusion = confusion_matrix(y_true, y_pred)\n",
    "    \n",
    "    tp = confusion[1, 1]\n",
    "    fp = confusion[0, 1]\n",
    "    fn = confusion[1, 0]\n",
    "    \n",
    "    precision = tp / (tp + fp)\n",
    "    recall = tp / (tp + fn)\n",
    "    \n",
    "    return 2 * (precision * recall) / (precision + recall)\n",
    "\n",
    "def confusion_matrix(y_true: List[int], y_pred: List[int]):\n",
    "    n_classes = 2\n",
    "    confusion = np.zeros((n_classes, n_classes))\n",
    "    \n",
    "    for true, pred in zip(y_true, y_pred):\n",
    "        confusion[true, pred] += 1\n",
    "        \n",
    "    return confusion\n",
    "\n",
    "def plot_confusion_matrix(cm, classes):\n",
    "    plt.figure(figsize=(8, 6))\n",
    "    plt.imshow(cm, interpolation='nearest', cmap=plt.cm.Blues)\n",
    "    plt.title('Confusion Matrix')\n",
    "    plt.colorbar()\n",
    "    tick_marks = np.arange(len(classes))\n",
    "    plt.xticks(tick_marks, classes, rotation=45)\n",
    "    plt.yticks(tick_marks, classes)\n",
    "\n",
    "    cm_normalized = cm.astype('float') / cm.sum(axis=1)[:, np.newaxis]\n",
    "    \n",
    "    thresh = cm_normalized.max() / 2.\n",
    "    for i, j in np.ndindex(cm.shape):\n",
    "        plt.text(j, i, f'{cm[i, j]} ({cm_normalized[i, j]:.2f})', \n",
    "                 horizontalalignment=\"center\",\n",
    "                 color=\"white\" if cm_normalized[i, j] > thresh else \"black\")\n",
    "\n",
    "    plt.tight_layout()\n",
    "    plt.ylabel('True label')\n",
    "    plt.xlabel('Predicted label')\n",
    "    plt.show()"
   ]
  },
  {
   "cell_type": "code",
   "execution_count": 6,
   "metadata": {},
   "outputs": [],
   "source": [
    "y_true, y_pred = get_true_and_predicted_labels(model, \"../data/tsrc_sprectrograms/test\")"
   ]
  },
  {
   "cell_type": "code",
   "execution_count": 6,
   "metadata": {},
   "outputs": [
    {
     "name": "stdout",
     "output_type": "stream",
     "text": [
      "Accuracy: 0.3180236604036186\n"
     ]
    }
   ],
   "source": [
    "print(f\"Accuracy: {accuracy(y_true, y_pred)}\")\n",
    "# print(f\"F1 Score: {f1_score(y_true, y_pred)}\")\n",
    "\n",
    "# plot_confusion_matrix(confusion_matrix(y_true, y_pred), [\"Negative\", \"Positive\"])"
   ]
  },
  {
   "cell_type": "code",
   "execution_count": 8,
   "metadata": {},
   "outputs": [
    {
     "data": {
      "text/plain": [
       "(array([ 25.,   0.,  71.,   0.,   0., 149.,   0., 232.,   0.,   0., 347.,\n",
       "          0.,   0., 280.,   0., 205.,   0.,   0.,  80.,   0.,  26.,   0.,\n",
       "          0.,   3.,   0.,   0.,   0.,   0.,   4.,   0.,   0.,   3.,   0.,\n",
       "          1.,   0.,   0.,   7.,   0., 124.]),\n",
       " array([15.        , 15.38461538, 15.76923077, 16.15384615, 16.53846154,\n",
       "        16.92307692, 17.30769231, 17.69230769, 18.07692308, 18.46153846,\n",
       "        18.84615385, 19.23076923, 19.61538462, 20.        , 20.38461538,\n",
       "        20.76923077, 21.15384615, 21.53846154, 21.92307692, 22.30769231,\n",
       "        22.69230769, 23.07692308, 23.46153846, 23.84615385, 24.23076923,\n",
       "        24.61538462, 25.        , 25.38461538, 25.76923077, 26.15384615,\n",
       "        26.53846154, 26.92307692, 27.30769231, 27.69230769, 28.07692308,\n",
       "        28.46153846, 28.84615385, 29.23076923, 29.61538462, 30.        ]),\n",
       " <BarContainer object of 39 artists>)"
      ]
     },
     "execution_count": 8,
     "metadata": {},
     "output_type": "execute_result"
    },
    {
     "data": {
      "image/png": "[encoded data removed]",
      "text/plain": [
       "<Figure size 640x480 with 1 Axes>"
      ]
     },
     "metadata": {},
     "output_type": "display_data"
    }
   ],
   "source": [
    "import glob\n",
    "from typing import Dict, List\n",
    "\n",
    "from matplotlib import pyplot as plt\n",
    "from numpy import sqrt\n",
    "\n",
    "\n",
    "files = glob.glob(\"../data/tsrc_train_test/train/**/*_nohash_0.wav\", recursive=True)\n",
    "speaker_id_to_files: Dict[str, List[str]] = {}\n",
    "\n",
    "for file in files:\n",
    "    speaker_id = file.split(\"\\\\\")[-1].split(\"_\")[-3]\n",
    "    if speaker_id not in speaker_id_to_files:\n",
    "        speaker_id_to_files[speaker_id] = []\n",
    "    speaker_id_to_files[speaker_id].append(file)\n",
    "\n",
    "\n",
    "file_occurances = [len(files) for files in speaker_id_to_files.values()]\n",
    "plt.hist(file_occurances, bins=int(sqrt(len(file_occurances))))"
   ]
  }
 ],
 "metadata": {
  "kernelspec": {
   "display_name": "venv",
   "language": "python",
   "name": "python3"
  },
  "language_info": {
   "codemirror_mode": {
    "name": "ipython",
    "version": 3
   },
   "file_extension": ".py",
   "mimetype": "text/x-python",
   "name": "python",
   "nbconvert_exporter": "python",
   "pygments_lexer": "ipython3",
   "version": "3.9.13"
  }
 },
 "nbformat": 4,
 "nbformat_minor": 2
}
