{
 "cells": [
  {
   "cell_type": "code",
   "execution_count": 1,
   "metadata": {},
   "outputs": [],
   "source": [
    "from model_training.cnn_classifier import CNNClassifier"
   ]
  },
  {
   "cell_type": "code",
   "execution_count": 2,
   "metadata": {},
   "outputs": [],
   "source": [
    "model = CNNClassifier(\n",
    "    \"../models/first-milestone\",\n",
    "    \"../data/tsrc_sprectrograms/train\", \n",
    "    \"../data/tsrc_sprectrograms/validation\",\n",
    ")"
   ]
  },
  {
   "cell_type": "code",
   "execution_count": 2,
   "metadata": {},
   "outputs": [
    {
     "name": "stdout",
     "output_type": "stream",
     "text": [
      "Running training on GPU...\n"
     ]
    },
    {
     "name": "stderr",
     "output_type": "stream",
     "text": [
      " 10%|█         | 1/10 [01:21<12:15, 81.72s/it]"
     ]
    },
    {
     "name": "stdout",
     "output_type": "stream",
     "text": [
      "Epoch 0 Done after 81.72338390350342 seconds\n"
     ]
    },
    {
     "name": "stderr",
     "output_type": "stream",
     "text": [
      " 20%|██        | 2/10 [02:15<08:40, 65.02s/it]"
     ]
    },
    {
     "name": "stdout",
     "output_type": "stream",
     "text": [
      "Epoch 1 Done after 53.322589635849 seconds\n"
     ]
    },
    {
     "name": "stderr",
     "output_type": "stream",
     "text": [
      " 30%|███       | 3/10 [03:05<06:49, 58.44s/it]"
     ]
    },
    {
     "name": "stdout",
     "output_type": "stream",
     "text": [
      "Epoch 2 Done after 50.614787101745605 seconds\n"
     ]
    },
    {
     "name": "stderr",
     "output_type": "stream",
     "text": [
      " 40%|████      | 4/10 [03:56<05:32, 55.50s/it]"
     ]
    },
    {
     "name": "stdout",
     "output_type": "stream",
     "text": [
      "Epoch 3 Done after 50.97864651679993 seconds\n"
     ]
    },
    {
     "name": "stderr",
     "output_type": "stream",
     "text": [
      " 50%|█████     | 5/10 [04:49<04:32, 54.59s/it]"
     ]
    },
    {
     "name": "stdout",
     "output_type": "stream",
     "text": [
      "Epoch 4 Done after 52.979857444763184 seconds\n"
     ]
    },
    {
     "name": "stderr",
     "output_type": "stream",
     "text": [
      " 60%|██████    | 6/10 [05:42<03:36, 54.09s/it]"
     ]
    },
    {
     "name": "stdout",
     "output_type": "stream",
     "text": [
      "Epoch 5 Done after 53.12792348861694 seconds\n"
     ]
    },
    {
     "name": "stderr",
     "output_type": "stream",
     "text": [
      " 70%|███████   | 7/10 [06:33<02:38, 52.89s/it]"
     ]
    },
    {
     "name": "stdout",
     "output_type": "stream",
     "text": [
      "Epoch 6 Done after 50.41369605064392 seconds\n"
     ]
    },
    {
     "name": "stderr",
     "output_type": "stream",
     "text": [
      " 80%|████████  | 8/10 [07:25<01:45, 52.81s/it]"
     ]
    },
    {
     "name": "stdout",
     "output_type": "stream",
     "text": [
      "Epoch 7 Done after 52.65075707435608 seconds\n"
     ]
    },
    {
     "name": "stderr",
     "output_type": "stream",
     "text": [
      " 90%|█████████ | 9/10 [08:19<00:52, 52.95s/it]"
     ]
    },
    {
     "name": "stdout",
     "output_type": "stream",
     "text": [
      "Epoch 8 Done after 53.24813151359558 seconds\n"
     ]
    },
    {
     "name": "stderr",
     "output_type": "stream",
     "text": [
      "100%|██████████| 10/10 [09:08<00:00, 54.85s/it]"
     ]
    },
    {
     "name": "stdout",
     "output_type": "stream",
     "text": [
      "Epoch 9 Done after 49.46444511413574 seconds\n",
      "Finished Training\n"
     ]
    },
    {
     "name": "stderr",
     "output_type": "stream",
     "text": [
      "\n"
     ]
    },
    {
     "name": "stdout",
     "output_type": "stream",
     "text": [
      "Error\n",
      "[0.50580114 0.49419883]\n",
      "Error\n",
      "[0.49711615 0.5028838 ]\n",
      "Error\n",
      "[0.5145472  0.48545277]\n",
      "Error\n",
      "[0.5079888  0.49201116]\n",
      "Error\n",
      "[0.4908081 0.5091919]\n",
      "Error\n",
      "[0.49727994 0.50272006]\n",
      "Error\n",
      "[0.49848995 0.50151   ]\n",
      "Error\n",
      "[0.47584707 0.524153  ]\n",
      "Error\n",
      "[0.49189025 0.5081098 ]\n",
      "Error\n",
      "[0.51787716 0.48212284]\n",
      "Error\n",
      "[0.4818158  0.51818424]\n",
      "Error\n",
      "[0.4770173 0.5229827]\n",
      "Error\n",
      "[0.51243347 0.4875665 ]\n",
      "Error\n",
      "[0.51150143 0.48849857]\n",
      "Error\n",
      "[0.48737848 0.5126215 ]\n",
      "Error\n",
      "[0.4858571 0.5141429]\n",
      "Error\n",
      "[0.47530988 0.5246901 ]\n",
      "Error\n",
      "[0.48939142 0.51060855]\n",
      "Error\n",
      "[0.48517585 0.51482415]\n",
      "Error\n",
      "[0.4849917  0.51500833]\n",
      "Error\n",
      "[0.50355095 0.49644908]\n",
      "Error\n",
      "[0.50461227 0.49538767]\n",
      "Error\n",
      "[0.4614916 0.5385084]\n",
      "Error\n",
      "[0.47994664 0.5200533 ]\n",
      "Error\n",
      "[0.47787607 0.52212393]\n",
      "Error\n",
      "[0.48861647 0.51138353]\n",
      "Error\n",
      "[0.4824958 0.5175042]\n",
      "Error\n",
      "[0.491163 0.508837]\n",
      "Error\n",
      "[0.5177966 0.4822034]\n",
      "Error\n",
      "[0.4775474  0.52245253]\n",
      "Error\n",
      "[0.5134581  0.48654196]\n",
      "Error\n",
      "[0.5267764 0.4732236]\n",
      "Error\n",
      "[0.46481377 0.5351863 ]\n",
      "Error\n",
      "[0.49690384 0.5030962 ]\n",
      "Error\n",
      "[0.5000618  0.49993816]\n",
      "Error\n",
      "[0.48110896 0.51889104]\n",
      "Error\n",
      "[0.4677078 0.5322922]\n",
      "Error\n",
      "[0.4851071  0.51489294]\n",
      "Error\n",
      "[0.49757537 0.5024246 ]\n",
      "Error\n",
      "[0.49755284 0.5024471 ]\n",
      "Error\n",
      "[0.47939646 0.5206035 ]\n",
      "Error\n",
      "[0.50631064 0.4936894 ]\n",
      "Error\n",
      "[0.4623203  0.53767973]\n",
      "Error\n",
      "[0.48819238 0.5118076 ]\n",
      "Error\n",
      "[0.46745348 0.5325465 ]\n",
      "Error\n",
      "[0.5048003  0.49519965]\n",
      "Error\n",
      "[0.49953043 0.50046957]\n",
      "Error\n",
      "[0.5028606 0.4971394]\n",
      "Error\n",
      "[0.4973843 0.5026157]\n",
      "Error\n",
      "[0.49083072 0.5091693 ]\n",
      "Error\n",
      "[0.47943857 0.52056146]\n",
      "Error\n",
      "[0.49701086 0.5029892 ]\n",
      "Error\n",
      "[0.4991913  0.50080866]\n",
      "Error\n",
      "[0.50878936 0.49121064]\n",
      "Error\n",
      "[0.5026503  0.49734965]\n",
      "Error\n",
      "[0.4958517 0.5041483]\n",
      "Error\n",
      "[0.49497354 0.5050264 ]\n"
     ]
    }
   ],
   "source": [
    "model.fit(epochs=10, batch_size=32)"
   ]
  },
  {
   "cell_type": "code",
   "execution_count": 7,
   "metadata": {},
   "outputs": [],
   "source": [
    "import glob\n",
    "from pathlib import Path\n",
    "from typing import Dict\n",
    "\n",
    "\n",
    "def get_true_labels(path: str) -> Dict[str, int]: \n",
    "    positive_label_files = [Path(file).stem for file in glob.glob(f\"{path}/1/*\")]\n",
    "    negative_label_files = [Path(file).stem for file in glob.glob(f\"{path}/0/*\")]\n",
    "\n",
    "    file_dicionary = {file : 1 for file in positive_label_files}\n",
    "    file_dicionary.update({file : 0 for file in negative_label_files})\n",
    "\n",
    "    return file_dicionary\n",
    "\n",
    "def accuracy(model : CNNClassifier, path: str) -> float:\n",
    "    true_labels = get_true_labels(path)\n",
    "    predictions = model.predict(path)\n",
    "\n",
    "    correct = 0\n",
    "    for file in true_labels:\n",
    "        prediction = predictions[file]\n",
    "        if true_labels[file] == prediction:\n",
    "            correct += 1\n",
    "    return correct / len(true_labels)\n",
    "\n",
    "\n",
    "def f1_score(model : CNNClassifier, path: str) -> float:\n",
    "    true_labels = get_true_labels(path)\n",
    "    predictions = model.predict(path)\n",
    "\n",
    "    tp = 0\n",
    "    fp = 0\n",
    "    fn = 0\n",
    "    for file in true_labels:\n",
    "        prediction = predictions[file]\n",
    "        if true_labels[file] == 1 and prediction == 1:\n",
    "            tp += 1\n",
    "        elif true_labels[file] == 1 and prediction == 0:\n",
    "            fn += 1\n",
    "        elif true_labels[file] == 0 and prediction == 1:\n",
    "            fp += 1\n",
    "\n",
    "    precision = tp / (tp + fp)\n",
    "    recall = tp / (tp + fn)\n",
    "    return 2 * (precision * recall) / (precision + recall)"
   ]
  },
  {
   "cell_type": "code",
   "execution_count": 8,
   "metadata": {},
   "outputs": [
    {
     "data": {
      "text/plain": [
       "0.6075949367088608"
      ]
     },
     "execution_count": 8,
     "metadata": {},
     "output_type": "execute_result"
    }
   ],
   "source": [
    "accuracy(model, '../data/tsrc_sprectrograms/test')\n",
    "f1_score(model, '../data/tsrc_sprectrograms/test')"
   ]
  }
 ],
 "metadata": {
  "kernelspec": {
   "display_name": "venv",
   "language": "python",
   "name": "python3"
  },
  "language_info": {
   "codemirror_mode": {
    "name": "ipython",
    "version": 3
   },
   "file_extension": ".py",
   "mimetype": "text/x-python",
   "name": "python",
   "nbconvert_exporter": "python",
   "pygments_lexer": "ipython3",
   "version": "3.10.14"
  }
 },
 "nbformat": 4,
 "nbformat_minor": 2
}
