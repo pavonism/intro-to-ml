{
 "cells": [
  {
   "cell_type": "code",
   "execution_count": 1,
   "metadata": {},
   "outputs": [],
   "source": [
    "import glob\n",
    "from pathlib import Path\n",
    "from typing import Dict\n",
    "import numpy as np\n",
    "\n",
    "from model_training.cnn_classifier import CNNClassifier"
   ]
  },
  {
   "cell_type": "code",
   "execution_count": 2,
   "metadata": {},
   "outputs": [],
   "source": [
    "model = CNNClassifier(\"../models/first-milestone\")"
   ]
  },
  {
   "cell_type": "code",
   "execution_count": 3,
   "metadata": {},
   "outputs": [
    {
     "name": "stderr",
     "output_type": "stream",
     "text": [
      "p:\\MINI8\\I2ML\\intro-to-ml\\venv\\lib\\site-packages\\torch\\optim\\lr_scheduler.py:62: UserWarning: The verbose parameter is deprecated. Please use get_last_lr() to access the learning rate.\n",
      "  warnings.warn(\n"
     ]
    },
    {
     "name": "stdout",
     "output_type": "stream",
     "text": [
      "Running training on GPU...\n"
     ]
    },
    {
     "name": "stderr",
     "output_type": "stream",
     "text": [
      " 10%|█         | 1/10 [01:21<12:14, 81.58s/it]"
     ]
    },
    {
     "name": "stdout",
     "output_type": "stream",
     "text": [
      "Epoch 0 Done after 81.5745301246643 seconds\n"
     ]
    },
    {
     "name": "stderr",
     "output_type": "stream",
     "text": [
      " 20%|██        | 2/10 [02:13<08:31, 63.90s/it]"
     ]
    },
    {
     "name": "stdout",
     "output_type": "stream",
     "text": [
      "Epoch 1 Done after 51.52048420906067 seconds\n"
     ]
    },
    {
     "name": "stderr",
     "output_type": "stream",
     "text": [
      " 30%|███       | 3/10 [03:04<06:48, 58.41s/it]"
     ]
    },
    {
     "name": "stdout",
     "output_type": "stream",
     "text": [
      "Epoch 2 Done after 51.88786482810974 seconds\n"
     ]
    },
    {
     "name": "stderr",
     "output_type": "stream",
     "text": [
      " 40%|████      | 4/10 [03:56<05:34, 55.80s/it]"
     ]
    },
    {
     "name": "stdout",
     "output_type": "stream",
     "text": [
      "Epoch 3 Done after 51.780816316604614 seconds\n"
     ]
    },
    {
     "name": "stderr",
     "output_type": "stream",
     "text": [
      " 50%|█████     | 5/10 [04:49<04:33, 54.62s/it]"
     ]
    },
    {
     "name": "stdout",
     "output_type": "stream",
     "text": [
      "Epoch 4 Done after 52.5004723072052 seconds\n"
     ]
    },
    {
     "name": "stderr",
     "output_type": "stream",
     "text": [
      " 60%|██████    | 6/10 [05:39<03:32, 53.08s/it]"
     ]
    },
    {
     "name": "stdout",
     "output_type": "stream",
     "text": [
      "Epoch 5 Done after 50.08935046195984 seconds\n"
     ]
    },
    {
     "name": "stderr",
     "output_type": "stream",
     "text": [
      " 70%|███████   | 7/10 [06:30<02:37, 52.47s/it]"
     ]
    },
    {
     "name": "stdout",
     "output_type": "stream",
     "text": [
      "Epoch 6 Done after 51.20376992225647 seconds\n"
     ]
    },
    {
     "name": "stderr",
     "output_type": "stream",
     "text": [
      " 80%|████████  | 8/10 [07:21<01:43, 51.99s/it]"
     ]
    },
    {
     "name": "stdout",
     "output_type": "stream",
     "text": [
      "Epoch 7 Done after 50.97914791107178 seconds\n"
     ]
    },
    {
     "name": "stderr",
     "output_type": "stream",
     "text": [
      " 90%|█████████ | 9/10 [08:13<00:51, 51.85s/it]"
     ]
    },
    {
     "name": "stdout",
     "output_type": "stream",
     "text": [
      "Epoch 8 Done after 51.52081751823425 seconds\n"
     ]
    },
    {
     "name": "stderr",
     "output_type": "stream",
     "text": [
      "100%|██████████| 10/10 [09:05<00:00, 54.53s/it]"
     ]
    },
    {
     "name": "stdout",
     "output_type": "stream",
     "text": [
      "Epoch 9 Done after 52.223806619644165 seconds\n",
      "Finished Training\n"
     ]
    },
    {
     "name": "stderr",
     "output_type": "stream",
     "text": [
      "\n"
     ]
    }
   ],
   "source": [
    "model.fit(\n",
    "    \"../data/tsrc_sprectrograms/train\", \n",
    "    \"../data/tsrc_sprectrograms/validation\",\n",
    "    batch_size=32,\n",
    "    n_epochs=10,\n",
    ")"
   ]
  },
  {
   "cell_type": "code",
   "execution_count": 3,
   "metadata": {},
   "outputs": [],
   "source": [
    "from typing import List\n",
    "\n",
    "from matplotlib import pyplot as plt\n",
    "\n",
    "\n",
    "def get_true_and_predicted_labels(model : CNNClassifier, path: str) -> Dict[str, int]:\n",
    "    true_labels = get_true_labels(path)\n",
    "    predictions = model.predict(path)\n",
    "\n",
    "    y_true = []\n",
    "    y_pred = []\n",
    "\n",
    "    for file in true_labels:\n",
    "        y_true.append(true_labels[file])\n",
    "        y_pred.append(predictions[file])\n",
    "\n",
    "    return y_true, y_pred\n",
    "\n",
    "def get_true_labels(path: str) -> Dict[str, int]: \n",
    "    positive_label_files = [Path(file).stem for file in glob.glob(f\"{path}/1/*\")]\n",
    "    negative_label_files = [Path(file).stem for file in glob.glob(f\"{path}/0/*\")]\n",
    "\n",
    "    file_dicionary = {file : 1 for file in positive_label_files}\n",
    "    file_dicionary.update({file : 0 for file in negative_label_files})\n",
    "\n",
    "    return file_dicionary\n",
    "\n",
    "def accuracy(y_true: List[int], y_pred: List[int]) -> float:\n",
    "    correct = 0\n",
    "    for true, pred in zip(y_true, y_pred):\n",
    "        if true == pred:\n",
    "            correct += 1\n",
    "    return correct / len(y_true)\n",
    "\n",
    "\n",
    "def f1_score(y_true: List[int], y_pred: List[int]) -> float:\n",
    "    confusion = confusion_matrix(y_true, y_pred)\n",
    "    \n",
    "    tp = confusion[1, 1]\n",
    "    fp = confusion[0, 1]\n",
    "    fn = confusion[1, 0]\n",
    "    \n",
    "    precision = tp / (tp + fp)\n",
    "    recall = tp / (tp + fn)\n",
    "    \n",
    "    return 2 * (precision * recall) / (precision + recall)\n",
    "\n",
    "def confusion_matrix(y_true: List[int], y_pred: List[int]):\n",
    "    n_classes = 2\n",
    "    confusion = np.zeros((n_classes, n_classes))\n",
    "    \n",
    "    for true, pred in zip(y_true, y_pred):\n",
    "        confusion[true, pred] += 1\n",
    "        \n",
    "    return confusion\n",
    "\n",
    "def plot_confusion_matrix(cm, classes):\n",
    "    plt.figure(figsize=(8, 6))\n",
    "    plt.imshow(cm, interpolation='nearest', cmap=plt.cm.Blues)\n",
    "    plt.title('Confusion Matrix')\n",
    "    plt.colorbar()\n",
    "    tick_marks = np.arange(len(classes))\n",
    "    plt.xticks(tick_marks, classes, rotation=45)\n",
    "    plt.yticks(tick_marks, classes)\n",
    "\n",
    "    cm_normalized = cm.astype('float') / cm.sum(axis=1)[:, np.newaxis]\n",
    "    \n",
    "    thresh = cm_normalized.max() / 2.\n",
    "    for i, j in np.ndindex(cm.shape):\n",
    "        plt.text(j, i, f'{cm[i, j]} ({cm_normalized[i, j]:.2f})', \n",
    "                 horizontalalignment=\"center\",\n",
    "                 color=\"white\" if cm_normalized[i, j] > thresh else \"black\")\n",
    "\n",
    "    plt.tight_layout()\n",
    "    plt.ylabel('True label')\n",
    "    plt.xlabel('Predicted label')\n",
    "    plt.show()"
   ]
  },
  {
   "cell_type": "code",
   "execution_count": 4,
   "metadata": {},
   "outputs": [
    {
     "name": "stdout",
     "output_type": "stream",
     "text": [
      "Accuracy: 0.5633802816901409\n",
      "F1 Score: 0.6075949367088608\n"
     ]
    },
    {
     "data": {
      "image/png": "[encoded data removed]",
      "text/plain": [
       "<Figure size 800x600 with 2 Axes>"
      ]
     },
     "metadata": {},
     "output_type": "display_data"
    }
   ],
   "source": [
    "y_true, y_pred = get_true_and_predicted_labels(model, \"../data/tsrc_sprectrograms/test\")\n",
    "\n",
    "print(f\"Accuracy: {accuracy(y_true, y_pred)}\")\n",
    "print(f\"F1 Score: {f1_score(y_true, y_pred)}\")\n",
    "\n",
    "plot_confusion_matrix(confusion_matrix(y_true, y_pred), [\"Negative\", \"Positive\"])"
   ]
  },
  {
   "cell_type": "code",
   "execution_count": 8,
   "metadata": {},
   "outputs": [
    {
     "data": {
      "text/plain": [
       "(array([ 25.,   0.,  71.,   0.,   0., 149.,   0., 232.,   0.,   0., 347.,\n",
       "          0.,   0., 280.,   0., 205.,   0.,   0.,  80.,   0.,  26.,   0.,\n",
       "          0.,   3.,   0.,   0.,   0.,   0.,   4.,   0.,   0.,   3.,   0.,\n",
       "          1.,   0.,   0.,   7.,   0., 124.]),\n",
       " array([15.        , 15.38461538, 15.76923077, 16.15384615, 16.53846154,\n",
       "        16.92307692, 17.30769231, 17.69230769, 18.07692308, 18.46153846,\n",
       "        18.84615385, 19.23076923, 19.61538462, 20.        , 20.38461538,\n",
       "        20.76923077, 21.15384615, 21.53846154, 21.92307692, 22.30769231,\n",
       "        22.69230769, 23.07692308, 23.46153846, 23.84615385, 24.23076923,\n",
       "        24.61538462, 25.        , 25.38461538, 25.76923077, 26.15384615,\n",
       "        26.53846154, 26.92307692, 27.30769231, 27.69230769, 28.07692308,\n",
       "        28.46153846, 28.84615385, 29.23076923, 29.61538462, 30.        ]),\n",
       " <BarContainer object of 39 artists>)"
      ]
     },
     "execution_count": 8,
     "metadata": {},
     "output_type": "execute_result"
    },
    {
     "data": {
      "image/png": "[encoded data removed]",
      "text/plain": [
       "<Figure size 640x480 with 1 Axes>"
      ]
     },
     "metadata": {},
     "output_type": "display_data"
    }
   ],
   "source": [
    "import glob\n",
    "from typing import Dict, List\n",
    "\n",
    "from matplotlib import pyplot as plt\n",
    "from numpy import sqrt\n",
    "\n",
    "\n",
    "files = glob.glob(\"../data/tsrc_train_test/train/**/*_nohash_0.wav\", recursive=True)\n",
    "speaker_id_to_files: Dict[str, List[str]] = {}\n",
    "\n",
    "for file in files:\n",
    "    speaker_id = file.split(\"\\\\\")[-1].split(\"_\")[-3]\n",
    "    if speaker_id not in speaker_id_to_files:\n",
    "        speaker_id_to_files[speaker_id] = []\n",
    "    speaker_id_to_files[speaker_id].append(file)\n",
    "\n",
    "\n",
    "file_occurances = [len(files) for files in speaker_id_to_files.values()]\n",
    "plt.hist(file_occurances, bins=int(sqrt(len(file_occurances))))"
   ]
  }
 ],
 "metadata": {
  "kernelspec": {
   "display_name": "venv",
   "language": "python",
   "name": "python3"
  },
  "language_info": {
   "codemirror_mode": {
    "name": "ipython",
    "version": 3
   },
   "file_extension": ".py",
   "mimetype": "text/x-python",
   "name": "python",
   "nbconvert_exporter": "python",
   "pygments_lexer": "ipython3",
   "version": "3.10.14"
  }
 },
 "nbformat": 4,
 "nbformat_minor": 2
}
