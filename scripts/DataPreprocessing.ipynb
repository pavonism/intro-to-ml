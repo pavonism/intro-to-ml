{
 "cells": [
  {
   "cell_type": "code",
   "execution_count": 1,
   "metadata": {},
   "outputs": [
    {
     "name": "stderr",
     "output_type": "stream",
     "text": [
      "p:\\MINI8\\I2ML\\intro-to-ml\\venv\\lib\\site-packages\\pydub\\utils.py:170: RuntimeWarning: Couldn't find ffmpeg or avconv - defaulting to ffmpeg, but may not work\n",
      "  warn(\"Couldn't find ffmpeg or avconv - defaulting to ffmpeg, but may not work\", RuntimeWarning)\n"
     ]
    }
   ],
   "source": [
    "from data_preprocessing.cleaning import clean_audio_folder\n",
    "from data_preprocessing.train_test_split import train_test_split_files\n",
    "from data_preprocessing.merging import merge_audios_by_speakers\n",
    "from data_preprocessing.splitting import split_audio_files\n",
    "from data_preprocessing.spectrogram_converter import convert_audio_files_to_images"
   ]
  },
  {
   "cell_type": "code",
   "execution_count": 1,
   "metadata": {},
   "outputs": [
    {
     "name": "stderr",
     "output_type": "stream",
     "text": [
      "p:\\MINI8\\I2ML\\intro-to-ml\\venv\\lib\\site-packages\\pydub\\utils.py:170: RuntimeWarning: Couldn't find ffmpeg or avconv - defaulting to ffmpeg, but may not work\n",
      "  warn(\"Couldn't find ffmpeg or avconv - defaulting to ffmpeg, but may not work\", RuntimeWarning)\n"
     ]
    },
    {
     "name": "stdout",
     "output_type": "stream",
     "text": [
      "Splitting audio files for train data...\n"
     ]
    },
    {
     "name": "stderr",
     "output_type": "stream",
     "text": [
      "100%|██████████| 1503/1503 [00:09<00:00, 164.39it/s]\n"
     ]
    },
    {
     "name": "stdout",
     "output_type": "stream",
     "text": [
      "Splitting audio files for test data...\n"
     ]
    },
    {
     "name": "stderr",
     "output_type": "stream",
     "text": [
      "100%|██████████| 189/189 [00:01<00:00, 182.92it/s]\n"
     ]
    },
    {
     "name": "stdout",
     "output_type": "stream",
     "text": [
      "Splitting audio files for validation data...\n"
     ]
    },
    {
     "name": "stderr",
     "output_type": "stream",
     "text": [
      "100%|██████████| 189/189 [00:01<00:00, 182.90it/s]\n"
     ]
    }
   ],
   "source": [
    "train_test_split_files(\n",
    "    '../data/tsrc/train', \n",
    "    '../data/tsrc_train_test/train', \n",
    "    '../data/tsrc_train_test/test', \n",
    "    '../data/tsrc_train_test/validation'\n",
    ")\n",
    "\n",
    "clean_audio_folder('../data/tsrc_train_test', '../data/tsrc_cleaned')\n",
    "merge_audios_by_speakers('../data/tsrc_cleaned', '../data/tsrc_merged')\n",
    "split_audio_files('../data/tsrc_merged', '../data/tsrc_splitted')"
   ]
  },
  {
   "cell_type": "code",
   "execution_count": 2,
   "metadata": {},
   "outputs": [
    {
     "name": "stdout",
     "output_type": "stream",
     "text": [
      "Converting audio files to images for train data...\n"
     ]
    },
    {
     "name": "stderr",
     "output_type": "stream",
     "text": [
      " 40%|███▉      | 3507/8874 [00:20<00:42, 125.23it/s] p:\\MINI8\\I2ML\\intro-to-ml\\venv\\lib\\site-packages\\librosa\\core\\spectrum.py:266: UserWarning: n_fft=2048 is too large for input signal of length=1941\n",
      "  warnings.warn(\n",
      " 47%|████▋     | 4201/8874 [01:23<06:51, 11.34it/s] p:\\MINI8\\I2ML\\intro-to-ml\\venv\\lib\\site-packages\\librosa\\core\\spectrum.py:266: UserWarning: n_fft=2048 is too large for input signal of length=1764\n",
      "  warnings.warn(\n",
      " 48%|████▊     | 4231/8874 [01:25<07:07, 10.86it/s]p:\\MINI8\\I2ML\\intro-to-ml\\venv\\lib\\site-packages\\librosa\\core\\spectrum.py:266: UserWarning: n_fft=2048 is too large for input signal of length=530\n",
      "  warnings.warn(\n",
      " 51%|█████▏    | 4566/8874 [01:57<07:21,  9.76it/s]p:\\MINI8\\I2ML\\intro-to-ml\\venv\\lib\\site-packages\\librosa\\core\\spectrum.py:266: UserWarning: n_fft=2048 is too large for input signal of length=1059\n",
      "  warnings.warn(\n",
      " 53%|█████▎    | 4668/8874 [02:06<06:07, 11.43it/s]p:\\MINI8\\I2ML\\intro-to-ml\\venv\\lib\\site-packages\\librosa\\core\\spectrum.py:266: UserWarning: n_fft=2048 is too large for input signal of length=706\n",
      "  warnings.warn(\n",
      " 58%|█████▊    | 5185/8874 [02:53<05:59, 10.26it/s]p:\\MINI8\\I2ML\\intro-to-ml\\venv\\lib\\site-packages\\librosa\\core\\spectrum.py:266: UserWarning: n_fft=2048 is too large for input signal of length=1235\n",
      "  warnings.warn(\n",
      " 61%|██████    | 5435/8874 [03:16<05:40, 10.09it/s]p:\\MINI8\\I2ML\\intro-to-ml\\venv\\lib\\site-packages\\librosa\\core\\spectrum.py:266: UserWarning: n_fft=2048 is too large for input signal of length=825\n",
      "  warnings.warn(\n",
      " 64%|██████▍   | 5682/8874 [03:39<04:57, 10.72it/s]p:\\MINI8\\I2ML\\intro-to-ml\\venv\\lib\\site-packages\\librosa\\core\\spectrum.py:266: UserWarning: n_fft=2048 is too large for input signal of length=1412\n",
      "  warnings.warn(\n",
      " 76%|███████▌  | 6718/8874 [05:14<03:26, 10.45it/s]p:\\MINI8\\I2ML\\intro-to-ml\\venv\\lib\\site-packages\\librosa\\core\\spectrum.py:266: UserWarning: n_fft=2048 is too large for input signal of length=2\n",
      "  warnings.warn(\n",
      " 82%|████████▏ | 7301/8874 [06:08<02:26, 10.70it/s]p:\\MINI8\\I2ML\\intro-to-ml\\venv\\lib\\site-packages\\librosa\\core\\spectrum.py:266: UserWarning: n_fft=2048 is too large for input signal of length=61\n",
      "  warnings.warn(\n",
      "100%|██████████| 8874/8874 [08:31<00:00, 17.35it/s]\n"
     ]
    },
    {
     "name": "stdout",
     "output_type": "stream",
     "text": [
      "Converting audio files to images for test data...\n"
     ]
    },
    {
     "name": "stderr",
     "output_type": "stream",
     "text": [
      " 24%|██▍       | 276/1140 [00:25<01:21, 10.54it/s]p:\\MINI8\\I2ML\\intro-to-ml\\venv\\lib\\site-packages\\librosa\\core\\spectrum.py:266: UserWarning: n_fft=2048 is too large for input signal of length=1267\n",
      "  warnings.warn(\n",
      " 45%|████▍     | 510/1140 [00:46<01:01, 10.22it/s]p:\\MINI8\\I2ML\\intro-to-ml\\venv\\lib\\site-packages\\librosa\\core\\spectrum.py:266: UserWarning: n_fft=2048 is too large for input signal of length=353\n",
      "  warnings.warn(\n",
      " 89%|████████▉ | 1019/1140 [01:33<00:11, 10.58it/s]p:\\MINI8\\I2ML\\intro-to-ml\\venv\\lib\\site-packages\\librosa\\core\\spectrum.py:266: UserWarning: n_fft=2048 is too large for input signal of length=1817\n",
      "  warnings.warn(\n",
      " 98%|█████████▊| 1117/1140 [01:42<00:02, 10.60it/s]p:\\MINI8\\I2ML\\intro-to-ml\\venv\\lib\\site-packages\\librosa\\core\\spectrum.py:266: UserWarning: n_fft=2048 is too large for input signal of length=1591\n",
      "  warnings.warn(\n",
      "100%|██████████| 1140/1140 [01:44<00:00, 10.95it/s]\n"
     ]
    },
    {
     "name": "stdout",
     "output_type": "stream",
     "text": [
      "Converting audio files to images for validation data...\n"
     ]
    },
    {
     "name": "stderr",
     "output_type": "stream",
     "text": [
      "  6%|▋         | 71/1115 [00:06<01:39, 10.48it/s]p:\\MINI8\\I2ML\\intro-to-ml\\venv\\lib\\site-packages\\librosa\\core\\spectrum.py:266: UserWarning: n_fft=2048 is too large for input signal of length=882\n",
      "  warnings.warn(\n",
      " 22%|██▏       | 246/1115 [00:22<01:20, 10.84it/s]p:\\MINI8\\I2ML\\intro-to-ml\\venv\\lib\\site-packages\\librosa\\core\\spectrum.py:266: UserWarning: n_fft=2048 is too large for input signal of length=1588\n",
      "  warnings.warn(\n",
      " 67%|██████▋   | 746/1115 [01:08<00:32, 11.46it/s]p:\\MINI8\\I2ML\\intro-to-ml\\venv\\lib\\site-packages\\librosa\\core\\spectrum.py:266: UserWarning: n_fft=2048 is too large for input signal of length=626\n",
      "  warnings.warn(\n",
      " 89%|████████▉ | 991/1115 [01:30<00:11, 10.85it/s]p:\\MINI8\\I2ML\\intro-to-ml\\venv\\lib\\site-packages\\librosa\\core\\spectrum.py:266: UserWarning: n_fft=2048 is too large for input signal of length=177\n",
      "  warnings.warn(\n",
      "100%|██████████| 1115/1115 [01:42<00:00, 10.90it/s]\n"
     ]
    }
   ],
   "source": [
    "convert_audio_files_to_images(\"../data/tsrc_splitted\", \"../data/tsrc_sprectrograms\")"
   ]
  }
 ],
 "metadata": {
  "kernelspec": {
   "display_name": "venv",
   "language": "python",
   "name": "python3"
  },
  "language_info": {
   "codemirror_mode": {
    "name": "ipython",
    "version": 3
   },
   "file_extension": ".py",
   "mimetype": "text/x-python",
   "name": "python",
   "nbconvert_exporter": "python",
   "pygments_lexer": "ipython3",
   "version": "3.10.14"
  }
 },
 "nbformat": 4,
 "nbformat_minor": 2
}
