{
 "cells": [
  {
   "cell_type": "code",
   "execution_count": 1,
   "metadata": {},
   "outputs": [],
   "source": [
    "from data_preprocessing.cleaning import clean_audio_folder\n",
    "from data_preprocessing.train_test_split import train_test_split_files\n",
    "from data_preprocessing.merging import merge_audios_by_speakers\n",
    "from data_preprocessing.splitting import split_audio_files\n",
    "from data_preprocessing.spectrogram_converter import convert_audio_files_to_images"
   ]
  },
  {
   "cell_type": "code",
   "execution_count": 3,
   "metadata": {},
   "outputs": [
    {
     "data": {
      "text/plain": [
       "(array([ 38.,   0.,  13.,   0.,  10.,   0.,  13.,   0.,   7.,   0.,  11.,\n",
       "          0.,   8.,   0.,   7.,   0.,   6.,   0.,   7.,   0.,   8.,   0.,\n",
       "          9.,   0.,   9.,   0.,  12.,   0.,  26.,   0.,   0.,  79.,   0.,\n",
       "        162.,   0., 260.,   0., 385.,   0., 310.,   0., 223.,   0.,  88.,\n",
       "          0.,  32.,   0.,   3.,   0.,   1.,   0.,   4.,   0.,   3.,   0.,\n",
       "          1.,   0.,   9.,   0., 137.]),\n",
       " array([ 1.        ,  1.48333333,  1.96666667,  2.45      ,  2.93333333,\n",
       "         3.41666667,  3.9       ,  4.38333333,  4.86666667,  5.35      ,\n",
       "         5.83333333,  6.31666667,  6.8       ,  7.28333333,  7.76666667,\n",
       "         8.25      ,  8.73333333,  9.21666667,  9.7       , 10.18333333,\n",
       "        10.66666667, 11.15      , 11.63333333, 12.11666667, 12.6       ,\n",
       "        13.08333333, 13.56666667, 14.05      , 14.53333333, 15.01666667,\n",
       "        15.5       , 15.98333333, 16.46666667, 16.95      , 17.43333333,\n",
       "        17.91666667, 18.4       , 18.88333333, 19.36666667, 19.85      ,\n",
       "        20.33333333, 20.81666667, 21.3       , 21.78333333, 22.26666667,\n",
       "        22.75      , 23.23333333, 23.71666667, 24.2       , 24.68333333,\n",
       "        25.16666667, 25.65      , 26.13333333, 26.61666667, 27.1       ,\n",
       "        27.58333333, 28.06666667, 28.55      , 29.03333333, 29.51666667,\n",
       "        30.        ]),\n",
       " <BarContainer object of 60 artists>)"
      ]
     },
     "execution_count": 3,
     "metadata": {},
     "output_type": "execute_result"
    },
    {
     "data": {
      "image/png": "[encoded data removed]",
      "text/plain": [
       "<Figure size 640x480 with 1 Axes>"
      ]
     },
     "metadata": {},
     "output_type": "display_data"
    }
   ],
   "source": [
    "import glob\n",
    "from typing import Dict, List\n",
    "\n",
    "from matplotlib import pyplot as plt\n",
    "\n",
    "\n",
    "files = glob.glob(\"../data/tsrc/train/**/*_nohash_0.wav\", recursive=True)\n",
    "speaker_id_to_files: Dict[str, List[str]] = {}\n",
    "\n",
    "for file in files:\n",
    "    speaker_id = file.split(\"\\\\\")[-1].split(\"_\")[-3]\n",
    "    if speaker_id not in speaker_id_to_files:\n",
    "        speaker_id_to_files[speaker_id] = []\n",
    "    speaker_id_to_files[speaker_id].append(file)\n",
    "\n",
    "\n",
    "file_occurances = [len(files) for files in speaker_id_to_files.values()]\n",
    "plt.hist(file_occurances, bins=60)"
   ]
  },
  {
   "cell_type": "code",
   "execution_count": 3,
   "metadata": {},
   "outputs": [
    {
     "name": "stdout",
     "output_type": "stream",
     "text": [
      "Merging audio files by speaker for train data...\n"
     ]
    },
    {
     "name": "stderr",
     "output_type": "stream",
     "text": [
      "100%|██████████| 15701/15701 [00:00<00:00, 243797.29it/s]\n",
      "100%|██████████| 779/779 [00:51<00:00, 15.01it/s]\n",
      "100%|██████████| 15583/15583 [00:00<00:00, 233758.60it/s]\n",
      "100%|██████████| 778/778 [00:49<00:00, 15.67it/s]\n"
     ]
    },
    {
     "name": "stdout",
     "output_type": "stream",
     "text": [
      "Merging audio files by speaker for test data...\n"
     ]
    },
    {
     "name": "stderr",
     "output_type": "stream",
     "text": [
      "100%|██████████| 172/172 [00:00<?, ?it/s]\n",
      "100%|██████████| 43/43 [00:00<00:00, 75.68it/s]\n",
      "100%|██████████| 172/172 [00:00<?, ?it/s]\n",
      "100%|██████████| 43/43 [00:00<00:00, 71.73it/s]\n"
     ]
    },
    {
     "name": "stdout",
     "output_type": "stream",
     "text": [
      "Merging audio files by speaker for validation data...\n"
     ]
    },
    {
     "name": "stderr",
     "output_type": "stream",
     "text": [
      "100%|██████████| 160/160 [00:00<?, ?it/s]\n",
      "100%|██████████| 40/40 [00:00<00:00, 72.87it/s]\n",
      "100%|██████████| 160/160 [00:00<?, ?it/s]\n",
      "100%|██████████| 40/40 [00:00<00:00, 77.44it/s]\n"
     ]
    },
    {
     "name": "stdout",
     "output_type": "stream",
     "text": [
      "Splitting audio files for train data...\n"
     ]
    },
    {
     "name": "stderr",
     "output_type": "stream",
     "text": [
      "100%|██████████| 779/779 [00:09<00:00, 83.89it/s] \n",
      "100%|██████████| 778/778 [00:07<00:00, 104.20it/s]\n"
     ]
    },
    {
     "name": "stdout",
     "output_type": "stream",
     "text": [
      "Splitting audio files for test data...\n"
     ]
    },
    {
     "name": "stderr",
     "output_type": "stream",
     "text": [
      "100%|██████████| 43/43 [00:00<00:00, 216.72it/s]\n",
      "100%|██████████| 43/43 [00:00<00:00, 232.75it/s]\n"
     ]
    },
    {
     "name": "stdout",
     "output_type": "stream",
     "text": [
      "Splitting audio files for validation data...\n"
     ]
    },
    {
     "name": "stderr",
     "output_type": "stream",
     "text": [
      "100%|██████████| 40/40 [00:00<00:00, 226.07it/s]\n",
      "100%|██████████| 40/40 [00:00<00:00, 240.09it/s]\n"
     ]
    },
    {
     "name": "stdout",
     "output_type": "stream",
     "text": [
      "Converting audio files to images for train data...\n"
     ]
    },
    {
     "name": "stderr",
     "output_type": "stream",
     "text": [
      "100%|██████████| 4839/4839 [07:46<00:00, 10.38it/s]\n",
      "100%|██████████| 4798/4798 [07:43<00:00, 10.35it/s]\n"
     ]
    },
    {
     "name": "stdout",
     "output_type": "stream",
     "text": [
      "Converting audio files to images for test data...\n"
     ]
    },
    {
     "name": "stderr",
     "output_type": "stream",
     "text": [
      "100%|██████████| 42/42 [00:04<00:00,  8.90it/s]\n",
      "100%|██████████| 42/42 [00:04<00:00,  9.98it/s]\n"
     ]
    },
    {
     "name": "stdout",
     "output_type": "stream",
     "text": [
      "Converting audio files to images for validation data...\n"
     ]
    },
    {
     "name": "stderr",
     "output_type": "stream",
     "text": [
      "100%|██████████| 39/39 [00:03<00:00, 10.54it/s]\n",
      "100%|██████████| 39/39 [00:03<00:00, 10.44it/s]\n"
     ]
    }
   ],
   "source": [
    "train_test_split_files(\n",
    "    '../data/tsrc/train', \n",
    "    '../data/tsrc_train_test/train', \n",
    "    '../data/tsrc_train_test/test', \n",
    "    '../data/tsrc_train_test/validation'\n",
    ")\n",
    "\n",
    "clean_audio_folder('../data/tsrc_train_test', '../data/tsrc_cleaned')\n",
    "merge_audios_by_speakers('../data/tsrc_cleaned', '../data/tsrc_merged')\n",
    "split_audio_files('../data/tsrc_merged', '../data/tsrc_splitted')\n",
    "convert_audio_files_to_images(\"../data/tsrc_splitted\", \"../data/tsrc_sprectrograms\")"
   ]
  }
 ],
 "metadata": {
  "kernelspec": {
   "display_name": "venv",
   "language": "python",
   "name": "python3"
  },
  "language_info": {
   "codemirror_mode": {
    "name": "ipython",
    "version": 3
   },
   "file_extension": ".py",
   "mimetype": "text/x-python",
   "name": "python",
   "nbconvert_exporter": "python",
   "pygments_lexer": "ipython3",
   "version": "3.10.14"
  }
 },
 "nbformat": 4,
 "nbformat_minor": 2
}
