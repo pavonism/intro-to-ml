{
 "cells": [
  {
   "cell_type": "code",
   "execution_count": null,
   "metadata": {},
   "outputs": [],
   "source": [
    "from backend.daps.data import Devices, Speakers\n",
    "from backend.daps.loader import DAPSLoader\n",
    "from backend.audio_to_spectrogram_converter import AudioToSpectrogramConverter\n",
    "from backend.tsrc.loader import TSRCLoader\n",
    "from backend.tsrc.data import Environments"
   ]
  },
  {
   "cell_type": "code",
   "execution_count": 1,
   "metadata": {},
   "outputs": [],
   "source": [
    "audio_data = DAPSLoader('../data/daps').get_audio(devices=[Devices.ipad], speakers=[Speakers.f1])"
   ]
  },
  {
   "cell_type": "code",
   "execution_count": 6,
   "metadata": {},
   "outputs": [],
   "source": [
    "AudioToSpectrogramConverter().convert(audio_data[0]).show()"
   ]
  },
  {
   "cell_type": "code",
   "execution_count": 1,
   "metadata": {},
   "outputs": [],
   "source": [
    "audio_data = TSRCLoader('../data/tsrc').get_audio(environments=[Environments.bed])"
   ]
  },
  {
   "cell_type": "code",
   "execution_count": null,
   "metadata": {},
   "outputs": [],
   "source": [
    "AudioToSpectrogramConverter().convert(audio_data[0]).show()"
   ]
  }
 ],
 "metadata": {
  "kernelspec": {
   "display_name": "venv",
   "language": "python",
   "name": "python3"
  },
  "language_info": {
   "codemirror_mode": {
    "name": "ipython",
    "version": 3
   },
   "file_extension": ".py",
   "mimetype": "text/x-python",
   "name": "python",
   "nbconvert_exporter": "python",
   "pygments_lexer": "ipython3",
   "version": "3.10.14"
  }
 },
 "nbformat": 4,
 "nbformat_minor": 2
}
