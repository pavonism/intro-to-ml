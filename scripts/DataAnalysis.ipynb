{
 "cells": [
  {
   "cell_type": "code",
   "execution_count": 1,
   "metadata": {},
   "outputs": [],
   "source": [
    "from backend.daps.data import Devices, Speakers\n",
    "from backend.daps.loader import DAPSLoader\n",
    "from backend.audio_to_spectrogram_converter import AudioToSpectrogramConverter\n",
    "from backend.tsrc.loader import TSRCLoader\n",
    "from backend.tsrc.data import Environments\n",
    "\n",
    "%load_ext autoreload\n",
    "%autoreload 2"
   ]
  },
  {
   "cell_type": "code",
   "execution_count": 2,
   "metadata": {
    "tags": []
   },
   "outputs": [],
   "source": [
    "import PIL\n",
    "from IPython.display import Audio\n",
    "import seaborn as sns\n",
    "from matplotlib import pyplot as plt\n",
    "import pandas as pd"
   ]
  },
  {
   "cell_type": "code",
   "execution_count": 3,
   "metadata": {
    "tags": []
   },
   "outputs": [],
   "source": [
    "from ipywidgets import widgets\n",
    "from ipywidgets import interactive"
   ]
  },
  {
   "cell_type": "code",
   "execution_count": 1,
   "metadata": {},
   "outputs": [],
   "source": [
    "#audio_data = DAPSLoader('../data/daps').get_audio(devices=[Devices.ipad], speakers=[Speakers.f1])\n",
    "#AudioToSpectrogramConverter().convert(audio_data[0]).show()"
   ]
  },
  {
   "cell_type": "code",
   "execution_count": 56,
   "metadata": {},
   "outputs": [],
   "source": [
    "audio_data = TSRCLoader('../data/tsrc').get_audio([Environments.cat, Environments.dog, Environments.bed, Environments.bird, Environments.down, Environments.eight])"
   ]
  },
  {
   "cell_type": "code",
   "execution_count": 57,
   "metadata": {
    "tags": []
   },
   "outputs": [],
   "source": [
    "enviroment_counts = {}\n",
    "tag_list = []\n",
    "sample_len_list = []\n",
    "sample_rate_list = []\n",
    "speaker_id_list = []\n",
    "repetition_no_list = []\n",
    "\n",
    "\n",
    "for audio in audio_data:\n",
    "    tag_list.append(audio.tag)\n",
    "    sample_len_list.append(len(audio.samples))\n",
    "    sample_rate_list.append(audio.sample_rate)\n",
    "    speaker_id_list.append(audio.speaker_id)\n",
    "    repetition_no_list.append(audio.repetition_no)"
   ]
  },
  {
   "cell_type": "code",
   "execution_count": 58,
   "metadata": {
    "tags": []
   },
   "outputs": [],
   "source": [
    "df = pd.DataFrame({\"tag\": tag_list, \n",
    "                   \"sample_len\": sample_len_list, \n",
    "                   \"sample_rate\": sample_rate_list, \n",
    "                   \"speaker_id\": speaker_id_list,\n",
    "                   \"repetition_no\" : repetition_no_list})\n",
    "df['audio_length'] = df['sample_len'] / df['sample_rate']"
   ]
  },
  {
   "cell_type": "markdown",
   "metadata": {},
   "source": [
    "<div style=\"text-align:center;\n",
    "            font-size:30px;\n",
    "            border-bottom:solid\">\n",
    "    Length of audio clips\n",
    "    </div>"
   ]
  },
  {
   "cell_type": "code",
   "execution_count": 11,
   "metadata": {
    "tags": []
   },
   "outputs": [],
   "source": [
    "tag_widget = widgets.Dropdown(\n",
    "    options=['All'] + list(df['tag'].unique()),\n",
    "    value='All',\n",
    "    description='tag:',\n",
    ")\n",
    "\n",
    "def plot_length(tag):\n",
    "    df2 = df.copy()\n",
    "    if tag != 'All':\n",
    "        df2 = df2[df2.tag == tag]\n",
    "\n",
    "    # Plot it (only if there's data to plot)\n",
    "    if len(df2) > 0:\n",
    "        sns.violinplot(df2, x = \"tag\", y=\"audio_length\").set_title(\"Length of audio by tag\")\n",
    "        plt.show();\n",
    "    else:\n",
    "        print(\"No data to show for current selection\")"
   ]
  },
  {
   "cell_type": "code",
   "execution_count": 59,
   "metadata": {
    "tags": []
   },
   "outputs": [],
   "source": [
    "tag_widget = widgets.SelectMultiple(\n",
    "    options=list(df['tag'].unique()),\n",
    "    value=list(df['tag'].unique()),\n",
    "    #rows=10,\n",
    "    description='tag'\n",
    ")\n",
    "\n",
    "def plot_length(tag):\n",
    "    df2 = df.copy()\n",
    "    df2 = df2[df2.tag.isin(tag)]\n",
    "\n",
    "    # Plot it (only if there's data to plot)\n",
    "    if len(df2) > 0:\n",
    "        sns.violinplot(df2, x = \"tag\", y=\"audio_length\").set_title(\"Length of audio by tag\")\n",
    "        plt.show();\n",
    "    else:\n",
    "        print(\"No data to show for current selection\")"
   ]
  },
  {
   "cell_type": "code",
   "execution_count": 63,
   "metadata": {
    "tags": []
   },
   "outputs": [],
   "source": [
    "sns.set_theme(rc={'figure.figsize':(21.7,8.27)})"
   ]
  },
  {
   "cell_type": "code",
   "execution_count": 64,
   "metadata": {
    "tags": []
   },
   "outputs": [
    {
     "data": {
      "application/vnd.jupyter.widget-view+json": {
       "model_id": "870169a5734a42ea8cf26ac37715211b",
       "version_major": 2,
       "version_minor": 0
      },
      "text/plain": [
       "interactive(children=(SelectMultiple(description='tag', index=(3, 4, 5), options=('cat', 'dog', 'bed', 'bird',…"
      ]
     },
     "execution_count": 64,
     "metadata": {},
     "output_type": "execute_result"
    }
   ],
   "source": [
    "interactive(plot_length, tag = tag_widget)"
   ]
  },
  {
   "cell_type": "code",
   "execution_count": 14,
   "metadata": {
    "tags": []
   },
   "outputs": [],
   "source": [
    "def plot_length_hist(tag):\n",
    "    df2 = df.copy()\n",
    "    df2['audio_length'] = df2['audio_length'].round(3)\n",
    "    if tag != 'All':\n",
    "        df2 = df2[df2.tag == tag]\n",
    "\n",
    "    # Plot it (only if there's data to plot)\n",
    "    if len(df2) > 0:\n",
    "        sns.histplot(df2,x=\"audio_length\").set_title(\"Length of audio by tag\")\n",
    "        plt.show();\n",
    "    else:\n",
    "        print(\"No data to show for current selection\")"
   ]
  },
  {
   "cell_type": "code",
   "execution_count": 15,
   "metadata": {
    "tags": []
   },
   "outputs": [
    {
     "data": {
      "application/vnd.jupyter.widget-view+json": {
       "model_id": "26cea84c9acf4636bc43ddd1f70a8a6c",
       "version_major": 2,
       "version_minor": 0
      },
      "text/plain": [
       "interactive(children=(Dropdown(description='tag:', options=('All', 'cat', 'dog'), value='All'), Output()), _do…"
      ]
     },
     "execution_count": 15,
     "metadata": {},
     "output_type": "execute_result"
    }
   ],
   "source": [
    "interactive(plot_length_hist, tag = tag_widget)"
   ]
  },
  {
   "cell_type": "markdown",
   "metadata": {},
   "source": [
    "<div style=\"text-align:center;\n",
    "            font-size:30px;\n",
    "            border-bottom:solid\">\n",
    "    Class size\n",
    "    </div>"
   ]
  },
  {
   "cell_type": "code",
   "execution_count": 29,
   "metadata": {
    "tags": []
   },
   "outputs": [
    {
     "data": {
      "text/plain": [
       "<Axes: xlabel='tag', ylabel='count'>"
      ]
     },
     "execution_count": 29,
     "metadata": {},
     "output_type": "execute_result"
    },
    {
     "data": {
      "image/png": "[encoded data removed]",
      "text/plain": [
       "<Figure size 640x480 with 1 Axes>"
      ]
     },
     "metadata": {},
     "output_type": "display_data"
    }
   ],
   "source": [
    "count_df = df.groupby(\"tag\", as_index=False).agg(count=('tag', 'count'))\n",
    "\n",
    "ax = sns.barplot(count_df, x=\"tag\", y=\"count\")\n",
    "ax.bar_label(ax.containers[0])\n",
    "ax.set_yticks([], [])\n",
    "ax"
   ]
  },
  {
   "cell_type": "markdown",
   "metadata": {},
   "source": [
    "<div style=\"text-align:center;\n",
    "            font-size:30px;\n",
    "            border-bottom:solid\">\n",
    "    Class size\n",
    "    </div>"
   ]
  },
  {
   "cell_type": "code",
   "execution_count": 33,
   "metadata": {
    "tags": []
   },
   "outputs": [
    {
     "data": {
      "text/html": [
       "<div>\n",
       "<style scoped>\n",
       "    .dataframe tbody tr th:only-of-type {\n",
       "        vertical-align: middle;\n",
       "    }\n",
       "\n",
       "    .dataframe tbody tr th {\n",
       "        vertical-align: top;\n",
       "    }\n",
       "\n",
       "    .dataframe thead th {\n",
       "        text-align: right;\n",
       "    }\n",
       "</style>\n",
       "<table border=\"1\" class=\"dataframe\">\n",
       "  <thead>\n",
       "    <tr style=\"text-align: right;\">\n",
       "      <th></th>\n",
       "      <th>tag</th>\n",
       "      <th>sample_len</th>\n",
       "      <th>sample_rate</th>\n",
       "      <th>speaker_id</th>\n",
       "      <th>repetition_no</th>\n",
       "      <th>audio_length</th>\n",
       "    </tr>\n",
       "  </thead>\n",
       "  <tbody>\n",
       "    <tr>\n",
       "      <th>0</th>\n",
       "      <td>cat</td>\n",
       "      <td>22050</td>\n",
       "      <td>22050</td>\n",
       "      <td>004ae714</td>\n",
       "      <td>0</td>\n",
       "      <td>1.000000</td>\n",
       "    </tr>\n",
       "    <tr>\n",
       "      <th>1</th>\n",
       "      <td>cat</td>\n",
       "      <td>15361</td>\n",
       "      <td>22050</td>\n",
       "      <td>004ae714</td>\n",
       "      <td>1</td>\n",
       "      <td>0.696644</td>\n",
       "    </tr>\n",
       "    <tr>\n",
       "      <th>2</th>\n",
       "      <td>cat</td>\n",
       "      <td>22050</td>\n",
       "      <td>22050</td>\n",
       "      <td>00b01445</td>\n",
       "      <td>0</td>\n",
       "      <td>1.000000</td>\n",
       "    </tr>\n",
       "    <tr>\n",
       "      <th>3</th>\n",
       "      <td>cat</td>\n",
       "      <td>22050</td>\n",
       "      <td>22050</td>\n",
       "      <td>00f0204f</td>\n",
       "      <td>0</td>\n",
       "      <td>1.000000</td>\n",
       "    </tr>\n",
       "    <tr>\n",
       "      <th>4</th>\n",
       "      <td>cat</td>\n",
       "      <td>22050</td>\n",
       "      <td>22050</td>\n",
       "      <td>00f0204f</td>\n",
       "      <td>1</td>\n",
       "      <td>1.000000</td>\n",
       "    </tr>\n",
       "    <tr>\n",
       "      <th>...</th>\n",
       "      <td>...</td>\n",
       "      <td>...</td>\n",
       "      <td>...</td>\n",
       "      <td>...</td>\n",
       "      <td>...</td>\n",
       "      <td>...</td>\n",
       "    </tr>\n",
       "    <tr>\n",
       "      <th>3474</th>\n",
       "      <td>dog</td>\n",
       "      <td>22050</td>\n",
       "      <td>22050</td>\n",
       "      <td>ff63ab0b</td>\n",
       "      <td>1</td>\n",
       "      <td>1.000000</td>\n",
       "    </tr>\n",
       "    <tr>\n",
       "      <th>3475</th>\n",
       "      <td>dog</td>\n",
       "      <td>22050</td>\n",
       "      <td>22050</td>\n",
       "      <td>ffb86d3c</td>\n",
       "      <td>0</td>\n",
       "      <td>1.000000</td>\n",
       "    </tr>\n",
       "    <tr>\n",
       "      <th>3476</th>\n",
       "      <td>dog</td>\n",
       "      <td>22050</td>\n",
       "      <td>22050</td>\n",
       "      <td>ffb86d3c</td>\n",
       "      <td>1</td>\n",
       "      <td>1.000000</td>\n",
       "    </tr>\n",
       "    <tr>\n",
       "      <th>3477</th>\n",
       "      <td>dog</td>\n",
       "      <td>22050</td>\n",
       "      <td>22050</td>\n",
       "      <td>ffbb695d</td>\n",
       "      <td>0</td>\n",
       "      <td>1.000000</td>\n",
       "    </tr>\n",
       "    <tr>\n",
       "      <th>3478</th>\n",
       "      <td>dog</td>\n",
       "      <td>22050</td>\n",
       "      <td>22050</td>\n",
       "      <td>ffd2ba2f</td>\n",
       "      <td>0</td>\n",
       "      <td>1.000000</td>\n",
       "    </tr>\n",
       "  </tbody>\n",
       "</table>\n",
       "<p>3479 rows × 6 columns</p>\n",
       "</div>"
      ],
      "text/plain": [
       "      tag  sample_len  sample_rate speaker_id repetition_no  audio_length\n",
       "0     cat       22050        22050   004ae714             0      1.000000\n",
       "1     cat       15361        22050   004ae714             1      0.696644\n",
       "2     cat       22050        22050   00b01445             0      1.000000\n",
       "3     cat       22050        22050   00f0204f             0      1.000000\n",
       "4     cat       22050        22050   00f0204f             1      1.000000\n",
       "...   ...         ...          ...        ...           ...           ...\n",
       "3474  dog       22050        22050   ff63ab0b             1      1.000000\n",
       "3475  dog       22050        22050   ffb86d3c             0      1.000000\n",
       "3476  dog       22050        22050   ffb86d3c             1      1.000000\n",
       "3477  dog       22050        22050   ffbb695d             0      1.000000\n",
       "3478  dog       22050        22050   ffd2ba2f             0      1.000000\n",
       "\n",
       "[3479 rows x 6 columns]"
      ]
     },
     "execution_count": 33,
     "metadata": {},
     "output_type": "execute_result"
    }
   ],
   "source": [
    "df"
   ]
  },
  {
   "cell_type": "markdown",
   "metadata": {},
   "source": [
    "<div style=\"text-align:center;\n",
    "            font-size:30px;\n",
    "            border-bottom:solid\">\n",
    "    Repetitions of speakers\n",
    "    </div>"
   ]
  },
  {
   "cell_type": "code",
   "execution_count": 49,
   "metadata": {
    "tags": []
   },
   "outputs": [],
   "source": [
    "def plot_repetitions(tag):\n",
    "    df2 = df.copy()\n",
    "    df2 = (\n",
    "        df2\n",
    "        .groupby([\"speaker_id\", \"tag\"], as_index=False)\n",
    "        .agg(no_repetitions=('tag', 'count'))\n",
    "        .groupby([\"tag\", \"no_repetitions\"], as_index=False)\n",
    "        .agg(count=('no_repetitions', 'sum'))\n",
    "    )\n",
    "    if tag != 'All':\n",
    "        df2 = df2[df2.tag == tag]\n",
    "    else:\n",
    "        df2 = (\n",
    "            df2\n",
    "            .groupby([\"no_repetitions\"], as_index=False)\n",
    "            .agg(count=('count', 'sum'))\n",
    "        )\n",
    "\n",
    "    # Plot it (only if there's data to plot)\n",
    "    if len(df2) > 0:\n",
    "        sns.barplot(df2,x=\"no_repetitions\", y=\"count\").set_title(\"Length of audio by tag\")\n",
    "        plt.show();\n",
    "    else:\n",
    "        print(\"No data to show for current selection\")"
   ]
  },
  {
   "cell_type": "code",
   "execution_count": 51,
   "metadata": {
    "tags": []
   },
   "outputs": [
    {
     "data": {
      "application/vnd.jupyter.widget-view+json": {
       "model_id": "b8a0620233d44e319fa0fd6f39b10f1f",
       "version_major": 2,
       "version_minor": 0
      },
      "text/plain": [
       "interactive(children=(Dropdown(description='tag:', options=('All', 'cat', 'dog'), value='All'), Output()), _do…"
      ]
     },
     "execution_count": 51,
     "metadata": {},
     "output_type": "execute_result"
    }
   ],
   "source": [
    "interactive(plot_repetitions, tag = tag_widget)"
   ]
  },
  {
   "cell_type": "markdown",
   "metadata": {},
   "source": [
    "<div style=\"text-align:center;\n",
    "            font-size:30px;\n",
    "            border-bottom:solid\">\n",
    "    Mean spectrogram\n",
    "    </div>"
   ]
  },
  {
   "cell_type": "markdown",
   "metadata": {},
   "source": [
    "<div style=\"text-align:center;\n",
    "            font-size:30px;\n",
    "            border-bottom:solid\">\n",
    "    Mean length of each word\n",
    "    </div>"
   ]
  },
  {
   "cell_type": "markdown",
   "metadata": {},
   "source": [
    "<div style=\"text-align:center;\n",
    "            font-size:30px;\n",
    "            border-bottom:solid\">\n",
    "    Distribution of length of each word\n",
    "    </div>"
   ]
  },
  {
   "cell_type": "markdown",
   "metadata": {},
   "source": [
    "<div style=\"text-align:center;\n",
    "            font-size:30px;\n",
    "            border-bottom:solid\">\n",
    "    Log of spectrogram\n",
    "    </div>"
   ]
  },
  {
   "cell_type": "code",
   "execution_count": 44,
   "metadata": {
    "tags": []
   },
   "outputs": [
    {
     "data": {
      "image/png": "[encoded data removed]",
      "text/plain": [
       "<PIL.PngImagePlugin.PngImageFile image mode=RGBA size=496x369>"
      ]
     },
     "metadata": {},
     "output_type": "display_data"
    },
    {
     "name": "stdout",
     "output_type": "stream",
     "text": [
      "tag: cat\n",
      "size: (496, 369)\n"
     ]
    }
   ],
   "source": [
    "i = 1\n",
    "my_image_mem = AudioToSpectrogramConverter().convert_to_bytes(audio_data[i], dpi=100)\n",
    "my_image = PIL.Image.open(my_image_mem)\n",
    "display(my_image)\n",
    "print(f\"tag: {audio_data[i].tag}\")\n",
    "print(f\"size: {my_image.size}\")"
   ]
  },
  {
   "cell_type": "code",
   "execution_count": 67,
   "metadata": {
    "tags": []
   },
   "outputs": [
    {
     "data": {
      "text/html": [
       "\n",
       "                <audio  controls=\"controls\" >\n",
       "                    <source src=\"data:audio/wav;base64,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\" type=\"audio/wav\" />\n",
       "                    Your browser does not support the audio element.\n",
       "                </audio>\n",
       "              "
      ],
      "text/plain": [
       "<IPython.lib.display.Audio object>"
      ]
     },
     "execution_count": 67,
     "metadata": {},
     "output_type": "execute_result"
    }
   ],
   "source": [
    "Audio(audio_data[5].samples, rate=audio_data[5].sample_rate)"
   ]
  }
 ],
 "metadata": {
  "kernelspec": {
   "display_name": "venv",
   "language": "python",
   "name": "venv"
  },
  "language_info": {
   "codemirror_mode": {
    "name": "ipython",
    "version": 3
   },
   "file_extension": ".py",
   "mimetype": "text/x-python",
   "name": "python",
   "nbconvert_exporter": "python",
   "pygments_lexer": "ipython3",
   "version": "3.11.3"
  }
 },
 "nbformat": 4,
 "nbformat_minor": 4
}
