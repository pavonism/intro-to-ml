{
 "cells": [
  {
   "cell_type": "code",
   "execution_count": 5,
   "metadata": {},
   "outputs": [
    {
     "name": "stderr",
     "output_type": "stream",
     "text": [
      "../data/daps\\daps.tar.gz: 100%|##########| 16.1G/16.1G [23:13<00:00, 11.5MB/s] \n"
     ]
    }
   ],
   "source": [
    "import requests\n",
    "import tarfile\n",
    "import os\n",
    "from tqdm import tqdm\n",
    "\n",
    "url = \"https://zenodo.org/records/4660670/files/daps.tar.gz?download=1\"\n",
    "target_dir = \"../data/daps\"\n",
    "\n",
    "os.makedirs(target_dir, exist_ok=True)\n",
    "\n",
    "response = requests.get(url, stream=True)\n",
    "tar_path = os.path.join(target_dir, \"daps.tar.gz\")\n",
    "\n",
    "with open(tar_path, \"wb\") as file:\n",
    "    total_size = int(response.headers.get('content-length', 0))\n",
    "    chunk_size = 8192\n",
    "\n",
    "    with tqdm(total=total_size, unit='B', unit_scale=True, desc=tar_path, initial=0, ascii=True) as pbar:\n",
    "        for chunk in response.iter_content(chunk_size=chunk_size):\n",
    "            file.write(chunk)\n",
    "            pbar.update(len(chunk))\n",
    "\n",
    "with tarfile.open(tar_path, \"r:gz\") as tar:\n",
    "    tar.extractall(path=target_dir)\n",
    "    \n",
    "os.remove(tar_path)"
   ]
  }
 ],
 "metadata": {
  "kernelspec": {
   "display_name": "venv",
   "language": "python",
   "name": "python3"
  },
  "language_info": {
   "codemirror_mode": {
    "name": "ipython",
    "version": 3
   },
   "file_extension": ".py",
   "mimetype": "text/x-python",
   "name": "python",
   "nbconvert_exporter": "python",
   "pygments_lexer": "ipython3",
   "version": "3.12.3"
  }
 },
 "nbformat": 4,
 "nbformat_minor": 2
}
