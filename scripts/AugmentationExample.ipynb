{
 "cells": [
  {
   "cell_type": "code",
   "execution_count": null,
   "id": "5dbff5e3-4763-43e6-9a53-51b08d9f3082",
   "metadata": {},
   "outputs": [],
   "source": [
    "from functools import partial\n",
    "from data_preprocessing.augmentation import compose\n",
    "from data_preprocessing.augmentation import audio\n",
    "from backend.spectrograms.utils import AudioLoader\n",
    "import os\n",
    "\n",
    "from data_preprocessing.augmentation import audio\n",
    "transformations = compose.Compose([\n",
    "    (partial(audio.change_pitch, n_steps = [-4, -3, -2, -1, 1, 2, 3, 4]), 0.25), # change pitch with probability 0.25\n",
    "    (partial(audio.addReverb), 0.25), #add reverb with probability 0.25\n",
    "    (partial(audio.getFirstSyllable), 0.5) #get first syllable with probability 0.5\n",
    "])\n"
   ]
  },
  {
   "cell_type": "code",
   "execution_count": null,
   "id": "a78fbbab-78d9-47a4-a87c-c7064e5c3a44",
   "metadata": {},
   "outputs": [],
   "source": [
    "audio.augment_audio_files('../data/tsrc_cleaned', '../data/tsrc_cleaned_augmented', transformations, 2500, 300) #How many files in train, How many files in validation"
   ]
  }
 ],
 "metadata": {
  "kernelspec": {
   "display_name": "Python (intotoml)",
   "language": "python",
   "name": "introtoml2"
  },
  "language_info": {
   "codemirror_mode": {
    "name": "ipython",
    "version": 3
   },
   "file_extension": ".py",
   "mimetype": "text/x-python",
   "name": "python",
   "nbconvert_exporter": "python",
   "pygments_lexer": "ipython3",
   "version": "3.11.3"
  }
 },
 "nbformat": 4,
 "nbformat_minor": 5
}
