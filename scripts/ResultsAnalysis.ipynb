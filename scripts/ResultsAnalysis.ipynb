{
 "cells": [
  {
   "cell_type": "code",
   "execution_count": 9,
   "metadata": {},
   "outputs": [],
   "source": [
    "import glob\n",
    "from pathlib import Path\n",
    "import pandas as pd\n",
    "\n",
    "from model_training.measures import accuracy, f1_score"
   ]
  },
  {
   "cell_type": "code",
   "execution_count": 2,
   "metadata": {},
   "outputs": [],
   "source": [
    "MODELS_PATH = '../models'"
   ]
  },
  {
   "cell_type": "markdown",
   "metadata": {},
   "source": [
    "## Compare the results for different techniques"
   ]
  },
  {
   "cell_type": "code",
   "execution_count": null,
   "metadata": {},
   "outputs": [
    {
     "data": {
      "text/html": [
       "<div>\n",
       "<style scoped>\n",
       "    .dataframe tbody tr th:only-of-type {\n",
       "        vertical-align: middle;\n",
       "    }\n",
       "\n",
       "    .dataframe tbody tr th {\n",
       "        vertical-align: top;\n",
       "    }\n",
       "\n",
       "    .dataframe thead th {\n",
       "        text-align: right;\n",
       "    }\n",
       "</style>\n",
       "<table border=\"1\" class=\"dataframe\">\n",
       "  <thead>\n",
       "    <tr style=\"text-align: right;\">\n",
       "      <th></th>\n",
       "      <th>accuracy</th>\n",
       "      <th>f1_score</th>\n",
       "    </tr>\n",
       "  </thead>\n",
       "  <tbody>\n",
       "    <tr>\n",
       "      <th>resnet18_tsrc_spectrograms</th>\n",
       "      <td>0.378577</td>\n",
       "      <td>0.372848</td>\n",
       "    </tr>\n",
       "    <tr>\n",
       "      <th>simple_cnn_tsrc_spectrograms</th>\n",
       "      <td>0.803680</td>\n",
       "      <td>0.808253</td>\n",
       "    </tr>\n",
       "    <tr>\n",
       "      <th>simple_cnn_tsrc_spectrograms_cleaned</th>\n",
       "      <td>0.823534</td>\n",
       "      <td>0.825102</td>\n",
       "    </tr>\n",
       "    <tr>\n",
       "      <th>simple_cnn_tsrc_spectrograms_cleaned_sharpened</th>\n",
       "      <td>0.824599</td>\n",
       "      <td>0.826996</td>\n",
       "    </tr>\n",
       "  </tbody>\n",
       "</table>\n",
       "</div>"
      ],
      "text/plain": [
       "                                                accuracy  f1_score\n",
       "resnet18_tsrc_spectrograms                      0.378577  0.372848\n",
       "simple_cnn_tsrc_spectrograms                    0.803680  0.808253\n",
       "simple_cnn_tsrc_spectrograms_cleaned            0.823534  0.825102\n",
       "simple_cnn_tsrc_spectrograms_cleaned_sharpened  0.824599  0.826996"
      ]
     },
     "execution_count": 8,
     "metadata": {},
     "output_type": "execute_result"
    }
   ],
   "source": [
    "results = {}\n",
    "\n",
    "for predictions_file in glob.glob(f'{MODELS_PATH}/**/predictions.csv', recursive=True):\n",
    "    df = pd.read_csv(predictions_file)\n",
    "    y_true = df[\"y_true\"].values\n",
    "    y_pred = df[\"y_pred\"].values\n",
    "\n",
    "    accuracy_score = accuracy(y_true, y_pred)\n",
    "    f1_score_value = f1_score(y_true, y_pred)\n",
    "    results[Path(predictions_file).parent.stem] = {\n",
    "        'accuracy': accuracy_score,\n",
    "        'f1_score': f1_score_value\n",
    "    }\n",
    "\n",
    "results_df = pd.DataFrame(results).T\n",
    "results_df"
   ]
  }
 ],
 "metadata": {
  "kernelspec": {
   "display_name": "venv",
   "language": "python",
   "name": "python3"
  },
  "language_info": {
   "codemirror_mode": {
    "name": "ipython",
    "version": 3
   },
   "file_extension": ".py",
   "mimetype": "text/x-python",
   "name": "python",
   "nbconvert_exporter": "python",
   "pygments_lexer": "ipython3",
   "version": "3.10.14"
  }
 },
 "nbformat": 4,
 "nbformat_minor": 2
}
