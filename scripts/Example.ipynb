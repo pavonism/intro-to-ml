{
 "cells": [
  {
   "cell_type": "code",
   "execution_count": null,
   "metadata": {},
   "outputs": [],
   "source": [
    "from backend.spectrogram_classifier import SpectrogramClassifier\n",
    "\n",
    "spectrogram_classifier = SpectrogramClassifier()\n",
    "\n",
    "# Restart environment after changes in backend"
   ]
  }
 ],
 "metadata": {
  "language_info": {
   "name": "python"
  }
 },
 "nbformat": 4,
 "nbformat_minor": 2
}
